{
 "cells": [
  {
   "cell_type": "markdown",
   "metadata": {},
   "source": [
    "# Functions, Scoping, Data Collections 1 & List Comprehensions"
   ]
  },
  {
   "cell_type": "markdown",
   "metadata": {},
   "source": [
    "## Tasks Today:\n",
    "\n",
    "<i>Monday Additions (for loops)</i>\n",
    "\n",
    "1) For Loops <br>\n",
    " &nbsp;&nbsp;&nbsp;&nbsp; a) Using 'in' keyword <br>\n",
    " &nbsp;&nbsp;&nbsp;&nbsp; b) Continue Statement <br>\n",
    " &nbsp;&nbsp;&nbsp;&nbsp; c) Break Statement <br>\n",
    " &nbsp;&nbsp;&nbsp;&nbsp; d) Pass Statement <br>\n",
    " &nbsp;&nbsp;&nbsp;&nbsp; e) Double For Loops <br>\n",
    "2) While Loops <br>\n",
    " &nbsp;&nbsp;&nbsp;&nbsp; a) Looping 'While True' <br>\n",
    " &nbsp;&nbsp;&nbsp;&nbsp; b) While and For Loops Used Together <br>\n",
    " \n",
    "3) Lists <br>\n",
    " &nbsp;&nbsp;&nbsp;&nbsp; a) Declaring Lists <br>\n",
    " &nbsp;&nbsp;&nbsp;&nbsp; b) Indexing a List <br>\n",
    " &nbsp;&nbsp;&nbsp;&nbsp; c) .append() <br>\n",
    " &nbsp;&nbsp;&nbsp;&nbsp; d) .insert() <br>\n",
    " &nbsp;&nbsp;&nbsp;&nbsp; e) .pop() <br>\n",
    " &nbsp;&nbsp;&nbsp;&nbsp; f) .remove() <br>\n",
    " &nbsp;&nbsp;&nbsp;&nbsp; g) del() <br>\n",
    " &nbsp;&nbsp;&nbsp;&nbsp; h) Concatenating Two Lists <br>\n",
    " &nbsp;&nbsp;&nbsp;&nbsp; i) Lists Within Lists <br>\n",
    " &nbsp;&nbsp;&nbsp;&nbsp; j) Looping Through Lists <br>\n",
    "4) Working With Lists <br>\n",
    " &nbsp;&nbsp;&nbsp;&nbsp; a) min() <br>\n",
    " &nbsp;&nbsp;&nbsp;&nbsp; b) max() <br>\n",
    " &nbsp;&nbsp;&nbsp;&nbsp; c) sum() <br>\n",
    " &nbsp;&nbsp;&nbsp;&nbsp; d) sort() <br>\n",
    " &nbsp;&nbsp;&nbsp;&nbsp; e) Copying a List <br>\n",
    " &nbsp;&nbsp;&nbsp;&nbsp; f) 'in' keyword <br>\n",
    " &nbsp;&nbsp;&nbsp;&nbsp; g) 'not in' keyword <br>\n",
    " &nbsp;&nbsp;&nbsp;&nbsp; i) Checking an Empty List <br>\n",
    " &nbsp;&nbsp;&nbsp;&nbsp; j) Removing Instances with a Loop <br> \n",
    "5) List Comprehensions <br>\n",
    "6) Tuples <br>\n",
    " &nbsp;&nbsp;&nbsp;&nbsp; a) sorted() <br>\n"
   ]
  },
  {
   "cell_type": "markdown",
   "metadata": {},
   "source": [
    "### For Loops"
   ]
  },
  {
   "cell_type": "code",
   "execution_count": 10,
   "metadata": {},
   "outputs": [
    {
     "name": "stdout",
     "output_type": "stream",
     "text": [
      "0\n",
      "1\n",
      "2\n",
      "3\n",
      "4\n",
      "5\n",
      "6\n",
      "7\n",
      "8\n",
      "9\n",
      "\n",
      "\n",
      "10\n",
      "20\n",
      "30\n",
      "40\n",
      "50\n",
      "60\n",
      "70\n",
      "80\n",
      "90\n",
      "\n",
      "\n",
      "B\n",
      "u\n",
      "l\n",
      "b\n",
      "a\n",
      "s\n",
      "a\n",
      "u\n",
      "r\n",
      "\n",
      "\n",
      "9\n",
      "\n",
      "\n",
      "0\n",
      "1\n",
      "2\n",
      "3\n",
      "4\n",
      "5\n",
      "6\n",
      "7\n",
      "8\n",
      "\n",
      "\n",
      "B 0\n",
      "u 1\n",
      "l 2\n",
      "b 3\n",
      "a 4\n",
      "s 5\n",
      "a 6\n",
      "u 7\n",
      "r 8\n",
      "\n",
      "\n",
      "B at index 0\n",
      "u at index 1\n",
      "l at index 2\n",
      "b at index 3\n",
      "a at index 4\n",
      "s at index 5\n",
      "a at index 6\n",
      "u at index 7\n",
      "r at index 8\n"
     ]
    }
   ],
   "source": [
    "# for keyword, counter/iterator variable, in keyword, object\n",
    "# loopint through a range\n",
    "# foor loop stops on its own\n",
    "\n",
    "for i in range(10):\n",
    "    print(i)\n",
    "    \n",
    "print('\\n') # creates a line break between answers\n",
    "\n",
    "#.          start, stop, step\n",
    "for i in range(10, 100, 10):\n",
    "    print(i)\n",
    "\n",
    "print('\\n')\n",
    "    \n",
    "name = \"Bulbasaur\"\n",
    "# looping by value\n",
    "for letter in name:\n",
    "    print(letter)\n",
    "    \n",
    "print('\\n')  \n",
    "# len() which returns the length of an iterable/object\n",
    "length = len(name)\n",
    "print(length)\n",
    "#                   9\n",
    "for i in range(len(name)):\n",
    "    pass\n",
    "\n",
    "print('\\n')\n",
    "\n",
    "for i in range(len(name)):\n",
    "    print(i)\n",
    "    \n",
    "print('\\n')\n",
    "\n",
    "for i in range(len(name)):\n",
    "    print(name[i], i)  \n",
    "    \n",
    "print('\\n')\n",
    "# loop by index\n",
    "#                   9\n",
    "for i in range(len(name)):\n",
    "    print(name[i], \"at index\", i)"
   ]
  },
  {
   "cell_type": "markdown",
   "metadata": {},
   "source": [
    "##### Using 'in' keyword"
   ]
  },
  {
   "cell_type": "code",
   "execution_count": 19,
   "metadata": {},
   "outputs": [
    {
     "name": "stdout",
     "output_type": "stream",
     "text": [
      "0\n",
      "2\n",
      "4\n",
      "6\n",
      "8\n",
      "10\n",
      "12\n",
      "14\n",
      "16\n",
      "18\n",
      "20\n",
      "22\n",
      "24\n",
      "26\n",
      "28\n",
      "\n",
      "\n",
      "totally tubular\n"
     ]
    }
   ],
   "source": [
    "#in is what accesses the items in an iterable\n",
    "\n",
    "\n",
    "for num in range(15):\n",
    "    print(num*2)     # double each number from 0 to 15\n",
    "    \n",
    "book = \"The Two Towers\"\n",
    "\n",
    "print('\\n')\n",
    "\n",
    "if \"T\" in book:\n",
    "    print(\"totally tubular\")\n",
    "else:\n",
    "    print(\"no\")"
   ]
  },
  {
   "cell_type": "markdown",
   "metadata": {},
   "source": [
    "##### Continue Statement"
   ]
  },
  {
   "cell_type": "code",
   "execution_count": 22,
   "metadata": {},
   "outputs": [
    {
     "name": "stdout",
     "output_type": "stream",
     "text": [
      "0\n",
      "1\n",
      "2\n",
      "3\n",
      "4\n",
      "7\n",
      "8\n",
      "9\n",
      "10\n",
      "11\n",
      "12\n",
      "13\n",
      "14\n",
      "15\n",
      "16\n",
      "17\n",
      "18\n",
      "19\n",
      "\n",
      "\n",
      "0\n",
      "1\n",
      "2\n",
      "3\n",
      "4\n",
      "7\n",
      "8\n",
      "9\n",
      "10\n",
      "11\n",
      "12\n",
      "13\n",
      "14\n",
      "15\n",
      "16\n",
      "17\n",
      "18\n",
      "19\n",
      "\n",
      "\n",
      "90\n",
      "43\n",
      "3\n",
      "10\n"
     ]
    }
   ],
   "source": [
    "#continue will skip over an item in an iterable based on a condition\n",
    "for i in range(20):\n",
    "    if i == 5 or i == 6:\n",
    "        continue\n",
    "    print(i)\n",
    "    \n",
    "print('\\n')    \n",
    "    \n",
    "for i in range(20):\n",
    "    if i == 5 or i == 6:\n",
    "        continue\n",
    "    else:\n",
    "        print(i)\n",
    "\n",
    "print('\\n')\n",
    "\n",
    "my_list = [100, 90, 43, 102, 1123, 3, 10, 1000]\n",
    "for num in my_list:\n",
    "    if num < 100:\n",
    "        print(num)"
   ]
  },
  {
   "cell_type": "markdown",
   "metadata": {},
   "source": [
    "##### Break Statement"
   ]
  },
  {
   "cell_type": "code",
   "execution_count": 34,
   "metadata": {},
   "outputs": [
    {
     "name": "stdout",
     "output_type": "stream",
     "text": [
      "0\n",
      "1\n",
      "2\n",
      "3\n"
     ]
    }
   ],
   "source": [
    "# break out of current loop\n",
    "for i in range(10):\n",
    "    if i == 4:\n",
    "        break\n",
    "    print(i)"
   ]
  },
  {
   "cell_type": "markdown",
   "metadata": {},
   "source": [
    "##### Pass Statement"
   ]
  },
  {
   "cell_type": "code",
   "execution_count": 38,
   "metadata": {},
   "outputs": [
    {
     "name": "stdout",
     "output_type": "stream",
     "text": [
      "hello\n"
     ]
    }
   ],
   "source": [
    "# mostly used as a placeholder, and will continue on same iteration\n",
    "for i in range(20):\n",
    "    pass     #to do: come back and do stuff here later\n",
    "\n",
    "def add_to_cart():\n",
    "    pass\n",
    "\n",
    "def checkout():\n",
    "    pass\n",
    "\n",
    "def thank_the_cashier():\n",
    "    pass\n",
    "\n",
    "print(\"hello\")"
   ]
  },
  {
   "cell_type": "markdown",
   "metadata": {},
   "source": [
    "##### Double For Loops"
   ]
  },
  {
   "cell_type": "code",
   "execution_count": 39,
   "metadata": {},
   "outputs": [
    {
     "name": "stdout",
     "output_type": "stream",
     "text": [
      "i =  j =  0\n",
      "i =  j =  0\n",
      "i =  j =  1\n",
      "i =  j =  0\n",
      "i =  j =  1\n",
      "i =  j =  2\n",
      "i =  j =  0\n",
      "i =  j =  1\n",
      "i =  j =  2\n",
      "i =  j =  3\n"
     ]
    }
   ],
   "source": [
    "for i in range(5):\n",
    "    for j in range(i):\n",
    "        print(\"i = \", \"j = \", j)"
   ]
  },
  {
   "cell_type": "code",
   "execution_count": 40,
   "metadata": {},
   "outputs": [
    {
     "name": "stdout",
     "output_type": "stream",
     "text": [
      "2\n",
      "3\n",
      "4\n",
      "5\n",
      "6\n",
      "7\n",
      "3\n",
      "4\n",
      "5\n",
      "6\n",
      "7\n",
      "8\n",
      "4\n",
      "5\n",
      "6\n",
      "7\n",
      "8\n",
      "9\n",
      "5\n",
      "6\n",
      "7\n",
      "8\n",
      "9\n",
      "10\n",
      "6\n",
      "7\n",
      "8\n",
      "9\n",
      "10\n",
      "11\n",
      "7\n",
      "8\n",
      "9\n",
      "10\n",
      "11\n",
      "12\n"
     ]
    }
   ],
   "source": [
    "my_list = [1, 2, 3, 4, 5, 6]\n",
    "for num in my_list:\n",
    "    for num2 in my_list:\n",
    "        print(num + num2)"
   ]
  },
  {
   "cell_type": "markdown",
   "metadata": {},
   "source": [
    "### While Loops"
   ]
  },
  {
   "cell_type": "code",
   "execution_count": 41,
   "metadata": {
    "scrolled": true
   },
   "outputs": [
    {
     "name": "stdout",
     "output_type": "stream",
     "text": [
      "1\n",
      "2\n",
      "3\n",
      "4\n",
      "5\n",
      "6\n",
      "7\n",
      "8\n",
      "9\n",
      "10\n",
      "11\n"
     ]
    }
   ],
   "source": [
    "#while keyword, condition statement\n",
    "#while loop will run based on the condition statement\n",
    "\n",
    "counter = 0\n",
    "while counter < 11:\n",
    "    counter += 1\n",
    "    print(counter)"
   ]
  },
  {
   "cell_type": "code",
   "execution_count": 45,
   "metadata": {},
   "outputs": [
    {
     "name": "stdout",
     "output_type": "stream",
     "text": [
      "2\n",
      "4\n",
      "6\n",
      "8\n",
      "10\n",
      "12\n",
      "\n",
      "\n",
      "0\n",
      "2\n",
      "4\n",
      "6\n",
      "8\n",
      "10\n",
      "\n",
      "\n",
      "0 Before incrementation\n",
      "1 After incrementation\n",
      "1 Before incrementation\n",
      "2 After incrementation\n",
      "2 Before incrementation\n",
      "3 After incrementation\n",
      "3 Before incrementation\n",
      "4 After incrementation\n",
      "4 Before incrementation\n",
      "5 After incrementation\n",
      "5 Before incrementation\n",
      "6 After incrementation\n",
      "6 Before incrementation\n",
      "7 After incrementation\n",
      "7 Before incrementation\n",
      "8 After incrementation\n",
      "8 Before incrementation\n",
      "9 After incrementation\n",
      "9 Before incrementation\n",
      "10 After incrementation\n",
      "10 Before incrementation\n",
      "11 After incrementation\n"
     ]
    }
   ],
   "source": [
    "counter = 0\n",
    "while counter < 11:\n",
    "    counter += 2\n",
    "    print(counter)\n",
    "    \n",
    "print('\\n')\n",
    "\n",
    "counter = 0\n",
    "while counter < 11:\n",
    "    print(counter)\n",
    "    counter += 2\n",
    "    \n",
    "print('\\n')\n",
    "\n",
    "counter = 0\n",
    "while counter < 11:\n",
    "    print(counter, \"Before incrementation\")\n",
    "    counter += 1\n",
    "    print(counter, \"After incrementation\")"
   ]
  },
  {
   "cell_type": "markdown",
   "metadata": {},
   "source": [
    "##### looping 'While True'"
   ]
  },
  {
   "cell_type": "code",
   "execution_count": 47,
   "metadata": {},
   "outputs": [
    {
     "name": "stdout",
     "output_type": "stream",
     "text": [
      "0\n",
      "1\n",
      "2\n",
      "3\n",
      "4\n"
     ]
    }
   ],
   "source": [
    "# true as a condition for while loop to run\n",
    "#true\n",
    "#false\n",
    "counter = 0\n",
    "while True:\n",
    "    print(counter)\n",
    "    counter += 1\n",
    "    if counter == 5:\n",
    "        break"
   ]
  },
  {
   "cell_type": "code",
   "execution_count": 49,
   "metadata": {},
   "outputs": [
    {
     "name": "stdout",
     "output_type": "stream",
     "text": [
      "infinite loop\n"
     ]
    }
   ],
   "source": [
    "game_over = False\n",
    "while True:\n",
    "    print(\"infinite loop\")\n",
    "    if game_over == False:\n",
    "        break"
   ]
  },
  {
   "cell_type": "markdown",
   "metadata": {},
   "source": [
    "###### using a boolean as a flag to run a while"
   ]
  },
  {
   "cell_type": "code",
   "execution_count": 3,
   "metadata": {},
   "outputs": [
    {
     "name": "stdout",
     "output_type": "stream",
     "text": [
      "5\n",
      "4\n",
      "7\n"
     ]
    }
   ],
   "source": [
    "# using a boolean as a flag to run a while\n",
    "game = True          #flag 🚩\n",
    "my_list = [2,5,4,7,6]\n",
    "i = 0\n",
    "while game:          # same thing as saying ** while True **\n",
    "    if my_list[i] == 4:\n",
    "        game = False\n",
    "    i+=1\n",
    "    print(my_list[i])"
   ]
  },
  {
   "cell_type": "markdown",
   "metadata": {},
   "source": [
    "##### While & For Loops Used Together"
   ]
  },
  {
   "cell_type": "code",
   "execution_count": null,
   "metadata": {},
   "outputs": [],
   "source": []
  },
  {
   "cell_type": "markdown",
   "metadata": {},
   "source": [
    "##### The Range Function"
   ]
  },
  {
   "cell_type": "code",
   "execution_count": null,
   "metadata": {},
   "outputs": [],
   "source": [
    "# range(start, stop, step) - stop is required and start defaults to 0 if none is given\n"
   ]
  },
  {
   "cell_type": "markdown",
   "metadata": {},
   "source": [
    "### String Manipulation Exercise"
   ]
  },
  {
   "cell_type": "code",
   "execution_count": 13,
   "metadata": {},
   "outputs": [
    {
     "name": "stdout",
     "output_type": "stream",
     "text": [
      "Connor\n",
      "Max\n",
      "Evan\n",
      "Jordan\n",
      "\n",
      "\n",
      "Connor\n",
      "Max\n",
      "Evan\n",
      "Jordan\n",
      "\n",
      "\n",
      "Connor\n",
      "Max\n",
      "Evan\n",
      "Jordan\n"
     ]
    }
   ],
   "source": [
    "names = ['    coNNor', 'max', ' EVan ', 'JORDAN']\n",
    "# HINT: You will need to use a for loop for iteration\n",
    "# Loop through the names list, remove white space and capitalize the first letter of each name. Print each new name.\n",
    "\n",
    "for x in names:\n",
    "    print(x.strip().title())\n",
    "    \n",
    "print('\\n')\n",
    "    \n",
    "names = ['    coNNor', 'max', ' EVan ', 'JORDAN']\n",
    "for name in names:\n",
    "    print(name.strip().title())\n",
    "    \n",
    "print('\\n')   \n",
    "\n",
    "for n in names:\n",
    "    new_name=n.strip().lower().title()\n",
    "    print(new_name)    "
   ]
  },
  {
   "cell_type": "markdown",
   "metadata": {},
   "source": [
    "##### Declaring Lists"
   ]
  },
  {
   "cell_type": "markdown",
   "metadata": {},
   "source": [
    "## Lists"
   ]
  },
  {
   "cell_type": "code",
   "execution_count": null,
   "metadata": {},
   "outputs": [],
   "source": [
    "print(names)\n",
    "print(numbers)\n",
    "print(stuff)"
   ]
  },
  {
   "cell_type": "markdown",
   "metadata": {},
   "source": [
    "##### Indexing a List"
   ]
  },
  {
   "cell_type": "code",
   "execution_count": 14,
   "metadata": {},
   "outputs": [
    {
     "name": "stdout",
     "output_type": "stream",
     "text": [
      "Liz\n",
      "Grace\n",
      "7\n",
      "Liz at index 0\n",
      "Ryan at index 1\n",
      "Juan at index 2\n",
      "Ben at index 3\n",
      "Connor at index 4\n",
      "Miguel at index 5\n",
      "Grace at index 6\n",
      "\n",
      "\n",
      "0\n",
      "Liz\n",
      "1\n",
      "Ryan\n",
      "2\n",
      "Juan\n",
      "3\n",
      "Ben\n",
      "4\n",
      "Connor\n",
      "5\n",
      "Miguel\n",
      "6\n",
      "Grace\n"
     ]
    }
   ],
   "source": [
    "# [start: stop: step] --> last item [-1]\n",
    "# we index into a list with[] follwing list name --> our_list[0]\n",
    "# index 0 is always the first position in a list\n",
    "\n",
    "names=['Liz', 'Ryan', 'Juan', 'Ben', 'Connor', 'Miguel', 'Grace']\n",
    "print(names[0])\n",
    "\n",
    "print(names[-1])   # -1 is always the last position in a list\n",
    "\n",
    "print(len(names))\n",
    "\n",
    "print(names[0], 'at index 0')\n",
    "print(names[1], 'at index 1')\n",
    "print(names[2], 'at index 2')\n",
    "print(names[3], 'at index 3')\n",
    "print(names[4], 'at index 4')\n",
    "print(names[5], 'at index 5')\n",
    "print(names[6], 'at index 6')\n",
    "print('\\n')\n",
    "for i in range(len(names)):\n",
    "    print(i)\n",
    "    print(names[i])\n",
    "    \n",
    "    "
   ]
  },
  {
   "cell_type": "code",
   "execution_count": 16,
   "metadata": {},
   "outputs": [
    {
     "name": "stdout",
     "output_type": "stream",
     "text": [
      "Connor\n",
      "['Ryan', 'Juan', 'Ben', 'Connor', 'Miguel', 'Grace']\n",
      "['Liz', 'Ryan', 'Juan']\n",
      "['Ryan', 'Ben', 'Miguel']\n",
      "['Liz', 'Juan', 'Connor', 'Grace']\n",
      "['Grace', 'Miguel', 'Connor', 'Ben', 'Juan', 'Ryan', 'Liz']\n",
      "['Grace', 'Connor', 'Juan', 'Liz']\n"
     ]
    }
   ],
   "source": [
    "#######   LIST SLICING   ########\n",
    "\n",
    "# [start: stop: step] --> last item [-1]\n",
    "\n",
    "names=['Liz', 'Ryan', 'Juan', 'Ben', 'Connor', 'Miguel', 'Grace']\n",
    "# single index\n",
    "print(names[4])\n",
    "\n",
    "# print starting at index 1 and go to the end of the list\n",
    "print(names[1:])\n",
    "\n",
    "# start at the beginning and go to a specified index\n",
    "print(names[:3])\n",
    "\n",
    "# starting at an index and stepping by a given # through the list\n",
    "print(names[1::2]) # start index is 1     step is 2 (reffereing to every second name)\n",
    "\n",
    "new_names = names[::2]\n",
    "print(new_names)\n",
    "\n",
    "# reverse a list\n",
    "print(names[::-1])\n",
    "\n",
    "print(names[::-2])"
   ]
  },
  {
   "cell_type": "markdown",
   "metadata": {},
   "source": [
    "### List Methods"
   ]
  },
  {
   "cell_type": "markdown",
   "metadata": {},
   "source": [
    "##### .append()"
   ]
  },
  {
   "cell_type": "code",
   "execution_count": 9,
   "metadata": {},
   "outputs": [
    {
     "name": "stdout",
     "output_type": "stream",
     "text": [
      "['Liz', 'Ryan', 'Juan', 'Ben', 'Connor', 'Miguel', 'Grace']\n",
      "['Liz', 'Ryan', 'Juan', 'Ben', 'Connor', 'Miguel', 'Grace', 'Kym']\n"
     ]
    }
   ],
   "source": [
    "# append will always add to the last position of a list\n",
    "# our_list.append(Thing_to_append)\n",
    "name= [\"Grace\", \"Justin\", \"Michael\", \"Connor\", \"Will\"]\n",
    "print(names)\n",
    "names.append(\"Kym\")\n",
    "print(names)"
   ]
  },
  {
   "cell_type": "markdown",
   "metadata": {},
   "source": [
    "##### .insert()"
   ]
  },
  {
   "cell_type": "code",
   "execution_count": 10,
   "metadata": {},
   "outputs": [
    {
     "name": "stdout",
     "output_type": "stream",
     "text": [
      "['Liz', 'Ryan', 'Juan', 'Ben', 'Connor', 'Miguel', 'Grace', 'Kym']\n",
      "['Liz', 'Ryan', 'Juan', 'Bikram', 'Ben', 'Connor', 'Miguel', 'Grace', 'Kym']\n"
     ]
    }
   ],
   "source": [
    "# our_list.insert(index, value)\n",
    "\n",
    "print(names)\n",
    "names.insert(3, \"Bikram\")\n",
    "print(names)"
   ]
  },
  {
   "cell_type": "markdown",
   "metadata": {},
   "source": [
    "##### .pop()"
   ]
  },
  {
   "cell_type": "code",
   "execution_count": 11,
   "metadata": {},
   "outputs": [
    {
     "name": "stdout",
     "output_type": "stream",
     "text": [
      "Juan\n",
      "['Liz', 'Ryan', 'Bikram', 'Ben', 'Connor', 'Miguel', 'Grace', 'Kym']\n",
      "Kym\n",
      "['Liz', 'Ryan', 'Bikram', 'Ben', 'Connor', 'Miguel', 'Grace']\n"
     ]
    }
   ],
   "source": [
    "# default is the last value if no parameter is given\n",
    "# pop returns the element that was removed in case you want to assign it into a variable\n",
    "# my_list.pop(<optional index>)\n",
    "\n",
    "name = names.pop(2)\n",
    "print(name)\n",
    "print(names)\n",
    "\n",
    "#removes last item by default\n",
    "name2 = names.pop()\n",
    "print(name2)\n",
    "print(names)\n"
   ]
  },
  {
   "cell_type": "markdown",
   "metadata": {},
   "source": [
    "##### .remove()"
   ]
  },
  {
   "cell_type": "code",
   "execution_count": 17,
   "metadata": {},
   "outputs": [
    {
     "name": "stdout",
     "output_type": "stream",
     "text": [
      "['Liz', 'Ryan', 'Juan', 'Ben', 'Miguel', 'Grace']\n"
     ]
    }
   ],
   "source": [
    "# value to be removed, not an index\n",
    "# my_list.remove(value to be removed)\n",
    "\n",
    "names.remove(\"Connor\")\n",
    "print(names)"
   ]
  },
  {
   "cell_type": "markdown",
   "metadata": {},
   "source": [
    "### Working With Lists"
   ]
  },
  {
   "cell_type": "markdown",
   "metadata": {},
   "source": [
    "##### del()"
   ]
  },
  {
   "cell_type": "code",
   "execution_count": 18,
   "metadata": {},
   "outputs": [
    {
     "name": "stdout",
     "output_type": "stream",
     "text": [
      "['Ryan', 'Juan', 'Ben', 'Miguel', 'Grace']\n"
     ]
    }
   ],
   "source": [
    "# index to be removed, not value \n",
    "del(names[0])\n",
    "print(names)"
   ]
  },
  {
   "cell_type": "markdown",
   "metadata": {},
   "source": [
    "##### min()"
   ]
  },
  {
   "cell_type": "code",
   "execution_count": 19,
   "metadata": {},
   "outputs": [
    {
     "name": "stdout",
     "output_type": "stream",
     "text": [
      "1\n"
     ]
    }
   ],
   "source": [
    "# return the smallest item in a list\n",
    "numbers = [5,8,24,1,32,100,4]\n",
    "print(min(numbers))"
   ]
  },
  {
   "cell_type": "markdown",
   "metadata": {},
   "source": [
    "##### max()"
   ]
  },
  {
   "cell_type": "code",
   "execution_count": 20,
   "metadata": {},
   "outputs": [
    {
     "name": "stdout",
     "output_type": "stream",
     "text": [
      "100\n"
     ]
    }
   ],
   "source": [
    "# returns largest item in a list\n",
    "print(max(numbers))"
   ]
  },
  {
   "cell_type": "markdown",
   "metadata": {},
   "source": [
    "##### sum()"
   ]
  },
  {
   "cell_type": "code",
   "execution_count": 21,
   "metadata": {},
   "outputs": [
    {
     "name": "stdout",
     "output_type": "stream",
     "text": [
      "174\n"
     ]
    }
   ],
   "source": [
    "# return the sum of all numbers in a list\n",
    "print(sum(numbers))"
   ]
  },
  {
   "cell_type": "markdown",
   "metadata": {},
   "source": [
    "##### sorted()"
   ]
  },
  {
   "cell_type": "code",
   "execution_count": 22,
   "metadata": {},
   "outputs": [
    {
     "name": "stdout",
     "output_type": "stream",
     "text": [
      "[1, 4, 5, 8, 24, 32, 100]\n"
     ]
    }
   ],
   "source": [
    "#sorted will return a new sorted list, create a new variable\n",
    "sorted_nums = sorted(numbers)\n",
    "print(sorted_nums)\n"
   ]
  },
  {
   "cell_type": "markdown",
   "metadata": {},
   "source": [
    "##### .sort() <br>\n",
    "<p>Difference between sort and sorted, is that sorted doesn't change original list it returns a copy, while .sort changes the original list</p>"
   ]
  },
  {
   "cell_type": "code",
   "execution_count": 24,
   "metadata": {},
   "outputs": [
    {
     "name": "stdout",
     "output_type": "stream",
     "text": [
      "[1, 4, 5, 8, 24, 32, 100]\n"
     ]
    }
   ],
   "source": [
    "#.sort() will sort the original list\n",
    "numbers.sort()\n",
    "print(numbers)"
   ]
  },
  {
   "cell_type": "markdown",
   "metadata": {},
   "source": [
    "#####    Copying a List    #####"
   ]
  },
  {
   "cell_type": "code",
   "execution_count": 26,
   "metadata": {},
   "outputs": [
    {
     "name": "stdout",
     "output_type": "stream",
     "text": [
      "['Grace', 'Justin', 'Michael', 'Connor', 'Will']\n"
     ]
    }
   ],
   "source": [
    "# [:] copies a list, doesn't alter original'\n",
    "names= [\"Grace\", \"Justin\", \"Michael\", \"Connor\", \"Will\"]\n",
    "more_names = names[:]\n",
    "print(more_names)"
   ]
  },
  {
   "cell_type": "markdown",
   "metadata": {},
   "source": [
    "##### Looping Through Lists"
   ]
  },
  {
   "cell_type": "code",
   "execution_count": 30,
   "metadata": {},
   "outputs": [
    {
     "name": "stdout",
     "output_type": "stream",
     "text": [
      "Han Solo\n",
      "Leia Organa\n",
      "Luke Skywalker\n",
      "Lando Calrissian\n",
      "Mace Windu\n",
      "\n",
      "\n",
      "Han Solo\n",
      "Leia Organa\n",
      "Luke Skywalker\n",
      "Lando Calrissian\n",
      "Mace Windu\n",
      "\n",
      "\n",
      "0 Han Solo\n",
      "1 Leia Organa\n",
      "2 Luke Skywalker\n",
      "3 Lando Calrissian\n",
      "4 Mace Windu\n"
     ]
    }
   ],
   "source": [
    "#Two ways to loop through a list. one is by index and the other is by value, using the \"in\" keyword\n",
    "names = [\"Han Solo\", \"Leia Organa\", \"Luke Skywalker\", \"Lando Calrissian\", \"Mace Windu\"]\n",
    "\n",
    "# looping by value\n",
    "for name in names:\n",
    "    print(name)\n",
    "    \n",
    "print('\\n')\n",
    "\n",
    "# looping by index\n",
    "for i in range(len(names)):\n",
    "    print(names[i])\n",
    "    \n",
    "print('\\n')    \n",
    "    \n",
    "# looping with a enumerate\n",
    "for i, value in enumerate(names):\n",
    "    print(i, value)"
   ]
  },
  {
   "cell_type": "markdown",
   "metadata": {},
   "source": [
    "##### 'in' keyword"
   ]
  },
  {
   "cell_type": "code",
   "execution_count": 33,
   "metadata": {},
   "outputs": [
    {
     "name": "stdout",
     "output_type": "stream",
     "text": [
      "Hello Grace!\n"
     ]
    }
   ],
   "source": [
    "names= [\"Grace\", \"Justin\", \"Michael\", \"Connor\", \"Will\"]\n",
    "if \"Grace\" in names:\n",
    "    print(\"Hello Grace!\")\n",
    "else:\n",
    "    \"There is no Grace :(\""
   ]
  },
  {
   "cell_type": "markdown",
   "metadata": {},
   "source": [
    "##### 'not in' keyword"
   ]
  },
  {
   "cell_type": "code",
   "execution_count": 34,
   "metadata": {},
   "outputs": [
    {
     "name": "stdout",
     "output_type": "stream",
     "text": [
      "He's a no show!\n"
     ]
    }
   ],
   "source": [
    "name= [\"Grace\", \"Justin\", \"Michael\", \"Connor\", \"Will\"]\n",
    "if \"Ryan\" not in names:\n",
    "    print(\"He's a no show!\")\n",
    "else:\n",
    "    print(\"Let's party!\")"
   ]
  },
  {
   "cell_type": "markdown",
   "metadata": {},
   "source": [
    "##### Checking an Empty List"
   ]
  },
  {
   "cell_type": "code",
   "execution_count": 36,
   "metadata": {},
   "outputs": [
    {
     "name": "stdout",
     "output_type": "stream",
     "text": [
      "Would you just look at that empty list.\n",
      "[]\n"
     ]
    }
   ],
   "source": [
    "l_1 = []\n",
    "\n",
    "if l_1==[]:\n",
    "    print(\"Would you just look at that empty list.\")\n",
    "    \n",
    "print(l_1)"
   ]
  },
  {
   "cell_type": "markdown",
   "metadata": {},
   "source": [
    "##### Removing Instances with a Loop"
   ]
  },
  {
   "cell_type": "code",
   "execution_count": 5,
   "metadata": {},
   "outputs": [
    {
     "name": "stdout",
     "output_type": "stream",
     "text": [
      "['Grace', 'Justin', 'Michael', 'Connor', 'Will']\n",
      "\n",
      "\n",
      "['Grace', 'Justin', 'Connor', 'Will']\n"
     ]
    }
   ],
   "source": [
    "#while, remove\n",
    "names= [\"Grace\", \"Justin\", \"Michael\", \"Michael\", \"Connor\", \"Will\"]\n",
    "for name in names:\n",
    "    if name == \"Michael\":\n",
    "        names.remove(name)\n",
    "print(names)\n",
    "\n",
    "print('\\n')\n",
    "\n",
    "names= [\"Grace\", \"Justin\", \"Michael\", \"Michael\", \"Connor\", \"Will\"]\n",
    "while \"Michael\" in names:\n",
    "    names.remove(\"Michael\")\n",
    "print(names)"
   ]
  },
  {
   "cell_type": "markdown",
   "metadata": {},
   "source": [
    "### List Exercise <br>\n",
    "<p>Remove all duplicates<br><b>Extra: Create a program that will remove any duplicates from a given list</b></p>"
   ]
  },
  {
   "cell_type": "code",
   "execution_count": null,
   "metadata": {},
   "outputs": [],
   "source": [
    "names = ['connor', 'connor', 'bob', 'connor', 'evan', 'max', 'evan', 2, 2, 2, 3, 3, 4, 'bob', 'kevin']\n",
    "# Hint 1: You will need an append\n",
    "# Hint 2: Using an empty list will make life easier\n",
    "\n",
    "\n"
   ]
  },
  {
   "cell_type": "markdown",
   "metadata": {},
   "source": [
    "### List Comprehensions <br>\n",
    "<p>Creating a quickly generated list to work with<br>*result*  = [*transform*    *iteration*         *filter*     ]</p>"
   ]
  },
  {
   "cell_type": "markdown",
   "metadata": {},
   "source": [
    "##### In a list comprehension we have a few pieces:\n",
    "1. The first is the counter/ variable - IN this the variable is x\n",
    "2. then we have a transform for the variable\n",
    "3. The finale part of a list comp is called the condition\n",
    "\n",
    "```python\n",
    "    [transform, iteration/variable, condition]\n",
    "```"
   ]
  },
  {
   "cell_type": "code",
   "execution_count": null,
   "metadata": {
    "scrolled": true
   },
   "outputs": [],
   "source": [
    "nums = [2, 4, 5, 6, 7, 8, 9, 10]\n",
    "nums_squared = []\n",
    "\n"
   ]
  },
  {
   "cell_type": "markdown",
   "metadata": {},
   "source": [
    "There are a few benefits to using List comprehensions. The most obvious would be that we now have shorter code to work with instead of using 3+ lines of code in the for loop variant.\n",
    "\n",
    "Another is an added benefit to memory usage. Since the list's memory is allocated first before adding elements to it, we don't have to resize the list once we add elements to it.\n",
    "\n",
    "Lastly, list comprehensions are considered the \"pythonic\" way to write code by the PEP8 standards (Python Style Guide)"
   ]
  },
  {
   "cell_type": "markdown",
   "metadata": {},
   "source": [
    "### Tuples <br>\n",
    "<p><b>Defined as an immutable list</b></p><br>Seperated by commas using parenthesis"
   ]
  },
  {
   "cell_type": "code",
   "execution_count": null,
   "metadata": {},
   "outputs": [],
   "source": []
  },
  {
   "cell_type": "markdown",
   "metadata": {},
   "source": [
    "##### sorted()"
   ]
  },
  {
   "cell_type": "code",
   "execution_count": null,
   "metadata": {},
   "outputs": [],
   "source": []
  },
  {
   "cell_type": "markdown",
   "metadata": {},
   "source": [
    "##### Adding values to a Tuple"
   ]
  },
  {
   "cell_type": "code",
   "execution_count": null,
   "metadata": {},
   "outputs": [],
   "source": []
  },
  {
   "cell_type": "markdown",
   "metadata": {},
   "source": [
    "# Exercises"
   ]
  },
  {
   "cell_type": "markdown",
   "metadata": {},
   "source": [
    "## Exercise 1 <br>\n",
    "<p>Using the given list, print out a filtered version of the list with only the numbers that are less than ten</b></i></p><br>\n"
   ]
  },
  {
   "cell_type": "code",
   "execution_count": 28,
   "metadata": {},
   "outputs": [
    {
     "name": "stdout",
     "output_type": "stream",
     "text": [
      "1\n",
      "5\n",
      "8\n",
      "9\n"
     ]
    }
   ],
   "source": [
    "alist = [1,11,14,5,8,9]\n",
    "\n",
    "for num in alist:\n",
    "    if num < 10:\n",
    "        print(num)"
   ]
  },
  {
   "cell_type": "markdown",
   "metadata": {},
   "source": [
    "## Exercise 2 <br>\n",
    "<p>Merge and sort the two lists below<br>\n",
    "<b><i>Hint: You can use the .sort() method</i></b></p>"
   ]
  },
  {
   "cell_type": "code",
   "execution_count": 18,
   "metadata": {},
   "outputs": [
    {
     "name": "stdout",
     "output_type": "stream",
     "text": [
      "[1, 2, 3, 4, 5, 6, 3, 4, 5, 6, 7, 8, 10]\n",
      "None\n"
     ]
    }
   ],
   "source": [
    "l_1 = [1,2,3,4,5,6]\n",
    "l_2 = [3,4,5,6,7,8,10]\n",
    "\n",
    "l_3 = l_1 + l_2\n",
    "print(l_3)\n",
    "\n",
    "print(l_3.sort())\n",
    "# not sure how to fix this????????/"
   ]
  },
  {
   "cell_type": "markdown",
   "metadata": {},
   "source": [
    "## Exercise 3 <br>\n",
    "<p>Square every number from 1 to 15<br>\n"
   ]
  },
  {
   "cell_type": "code",
   "execution_count": 2,
   "metadata": {},
   "outputs": [
    {
     "name": "stdout",
     "output_type": "stream",
     "text": [
      "0\n",
      "1\n",
      "4\n",
      "9\n",
      "16\n",
      "25\n",
      "36\n",
      "49\n",
      "64\n",
      "81\n",
      "100\n",
      "121\n",
      "144\n",
      "169\n",
      "196\n"
     ]
    }
   ],
   "source": [
    "for num in range(15):\n",
    "    print(num**2)"
   ]
  },
  {
   "cell_type": "markdown",
   "metadata": {},
   "source": [
    "## Exercise 4<br>\n",
    "<p>Using List Comprehension and the given list, print out a filtered list with \n",
    "only the names that start with the letter 'a'. \n",
    "The names in the outputted list should be title cased and have no whitespace.<br>\n"
   ]
  },
  {
   "cell_type": "code",
   "execution_count": 2,
   "metadata": {},
   "outputs": [
    {
     "name": "stdout",
     "output_type": "stream",
     "text": [
      "['Amy', 'Alex']\n"
     ]
    }
   ],
   "source": [
    "names_list = ['   amy', 'Briant', 'Ryan ', ' Alex', 'steve', '  ']\n",
    "#expected output = ['Amy', 'Alex']\n",
    "\n",
    "filtered_names = [name.strip().title() for name in names_list if name.strip().lower().startswith('a')]\n",
    "print(filtered_names)"
   ]
  },
  {
   "cell_type": "markdown",
   "metadata": {},
   "source": [
    "## Exercise 5 <br>\n",
    "<p>Print all Prime numbers from 1 to 100<br>\n"
   ]
  },
  {
   "cell_type": "code",
   "execution_count": 1,
   "metadata": {},
   "outputs": [],
   "source": [
    "#Not sure where to go with this\n"
   ]
  },
  {
   "cell_type": "code",
   "execution_count": null,
   "metadata": {},
   "outputs": [],
   "source": []
  }
 ],
 "metadata": {
  "kernelspec": {
   "display_name": "Python 3 (ipykernel)",
   "language": "python",
   "name": "python3"
  },
  "language_info": {
   "codemirror_mode": {
    "name": "ipython",
    "version": 3
   },
   "file_extension": ".py",
   "mimetype": "text/x-python",
   "name": "python",
   "nbconvert_exporter": "python",
   "pygments_lexer": "ipython3",
   "version": "3.11.4"
  }
 },
 "nbformat": 4,
 "nbformat_minor": 2
}
